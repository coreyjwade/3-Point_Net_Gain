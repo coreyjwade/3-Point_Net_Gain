{
 "cells": [
  {
   "cell_type": "markdown",
   "metadata": {},
   "source": [
    "\n",
    "# NBA 3-Point Statistics"
   ]
  },
  {
   "cell_type": "markdown",
   "metadata": {},
   "source": [
    "## Table of Contents\n",
    "1. [Introduction](#Introduction)\n",
    "2. [Data Wrangling](#Data-Wrangling)\n",
    "3. [New NBA Stats](#New-NBA-Stats)\n",
    "4. [3Pave Rankings](#3Pave-Rankings)\n",
    "5. [Conclusion](#Conclusion)\n"
   ]
  },
  {
   "cell_type": "markdown",
   "metadata": {},
   "source": [
    "## Introduction\n",
    "\n",
    "There has never been a single metric to determine the best NBA 3-Point shooters. Most fans know the reality from watching the games. Objectively, most fans consider two numbers, 3-point Percentage, and 3 Pointers Made.\n",
    "\n",
    "Is there an empirical way to combine 3-point Percentage and 3-pointers Made into one metric? Will the metric verify that Steph Curry is the greatest 3-point shooter of all-time? What about the best 3-point shooting team of all-time?\n",
    "\n",
    "To answer these questions, I have developed 3-point Average, or 3Pave. This metric computes the number of points the team gains per possession when the player makes a 3-pointer, minus the number of points the team loses when the player misses a 3-pointer. This metric is evaluated based on the expected value of points on an average possession.\n",
    "\n",
    "This Jupyter Notebook contains Exploratory Data Analysis regarding to the new metric, 3Pave. It evaluates 3-point shooters throughout NBA History using 3Pave, and another new metric, Expected Minutes before a 3, or EM3. Data Wrangling steps are included for those with an interest in learning pandas. Readers uninterested in pandas can skip directly to [New NBA Stats](#New-NBA-Stats).    \n",
    "\n",
    "\n",
    "#### References\n",
    "\n",
    "https://www.kaggle.com/drgilermo/nba-players-stats <br>\n",
    "https://www.basketball-reference.com/\n",
    "\n",
    "#### Copyright\n",
    "\n",
    "Corey J Wade<br>\n",
    "May 31, 2018\n",
    "\n",
    "This Jupyter Notebook and the statistics within may be redistributed with credit given to the author, Corey J Wade.\n"
   ]
  },
  {
   "cell_type": "markdown",
   "metadata": {},
   "source": [
    "## Data Wrangling"
   ]
  },
  {
   "cell_type": "markdown",
   "metadata": {},
   "source": [
    "The following csv file is taken from https://www.kaggle.com/drgilermo/nba-players-stats. When I downloaded the file, it contained standard statistics through 2017. Dr. Guillermo scraped it from https://www.basketball-reference.com/. "
   ]
  },
  {
   "cell_type": "markdown",
   "metadata": {},
   "source": [
    "#### NBA Stats Through 2017"
   ]
  },
  {
   "cell_type": "code",
   "execution_count": 558,
   "metadata": {},
   "outputs": [
    {
     "ename": "NameError",
     "evalue": "name 'df2017' is not defined",
     "output_type": "error",
     "traceback": [
      "\u001b[0;31m---------------------------------------------------------------------------\u001b[0m",
      "\u001b[0;31mNameError\u001b[0m                                 Traceback (most recent call last)",
      "\u001b[0;32m<ipython-input-558-c88be07466db>\u001b[0m in \u001b[0;36m<module>\u001b[0;34m()\u001b[0m\n\u001b[1;32m      6\u001b[0m \u001b[0;34m\u001b[0m\u001b[0m\n\u001b[1;32m      7\u001b[0m \u001b[0;31m# Display first five rows\u001b[0m\u001b[0;34m\u001b[0m\u001b[0;34m\u001b[0m\u001b[0m\n\u001b[0;32m----> 8\u001b[0;31m \u001b[0mdf2017\u001b[0m\u001b[0;34m.\u001b[0m\u001b[0mhead\u001b[0m\u001b[0;34m(\u001b[0m\u001b[0;34m)\u001b[0m\u001b[0;34m\u001b[0m\u001b[0m\n\u001b[0m",
      "\u001b[0;31mNameError\u001b[0m: name 'df2017' is not defined"
     ]
    }
   ],
   "source": [
    "# Import pandas\n",
    "import pandas as pd\n",
    "\n",
    "# Open file as dataframe, from Dr. Guillermo via Kaggle\n",
    "df_2017 = pd.read_csv('Seasons_Stats.csv')\n",
    "\n",
    "# Display first five rows\n",
    "df_2017.head()"
   ]
  },
  {
   "cell_type": "markdown",
   "metadata": {},
   "source": [
    "Basketball statistics were not widely computed before the modern era, hence the null values. Also, the 3-point shot did not exist before 1979, so we can start there."
   ]
  },
  {
   "cell_type": "code",
   "execution_count": null,
   "metadata": {},
   "outputs": [],
   "source": [
    "# Delete unnecessary column\n",
    "del df_2017['Unnamed: 0']\n",
    "\n",
    "# Only select years after 1979\n",
    "df_2017 = df_2017[df_2017['Year']>=1979]\n",
    "\n",
    "# Display last five rows\n",
    "df_2017.tail()"
   ]
  },
  {
   "cell_type": "markdown",
   "metadata": {},
   "source": [
    "#### 2018 NBA Stats"
   ]
  },
  {
   "cell_type": "markdown",
   "metadata": {},
   "source": [
    "The 2018 NBA season recently finished. I used the same link, https://www.basketball-reference.com/, to scrape the 2018 statistics."
   ]
  },
  {
   "cell_type": "code",
   "execution_count": null,
   "metadata": {},
   "outputs": [],
   "source": [
    "# Read html file\n",
    "df_2018, = pd.read_html(\"https://www.basketball-reference.com/leagues/NBA_2018_totals.html\", header=0)\n",
    "\n",
    "# Convert to csv file\n",
    "df_2018.to_csv(\"df_2018.csv\", index=False)\n",
    "\n",
    "# Display first five rows\n",
    "df_2018.head()"
   ]
  },
  {
   "cell_type": "markdown",
   "metadata": {},
   "source": [
    "Since there is no column for year, I will one."
   ]
  },
  {
   "cell_type": "code",
   "execution_count": null,
   "metadata": {},
   "outputs": [],
   "source": [
    "# Delete unnecessary column\n",
    "del df_2018['Rk']\n",
    "\n",
    "# Add column for year, place at index 0\n",
    "df_2018.insert(0, 'Year', 2018.0)\n",
    "\n",
    "# Display last five rows\n",
    "df_2018.tail()"
   ]
  },
  {
   "cell_type": "markdown",
   "metadata": {},
   "source": [
    "#### Concatenating Dataframes"
   ]
  },
  {
   "cell_type": "markdown",
   "metadata": {},
   "source": [
    "Since the dataframes have a different number of columns, I select the relevant columns before concatenating."
   ]
  },
  {
   "cell_type": "code",
   "execution_count": null,
   "metadata": {},
   "outputs": [],
   "source": [
    "# Select relevant columns\n",
    "tp_2017 = df_2017[['Year', 'Tm', 'Player', 'G','MP', 'PTS', '3P', '3PA', '3P%']]\n",
    "tp_2018 = df_2018[['Year', 'Tm', 'Player', 'G','MP', 'PTS', '3P', '3PA', '3P%']]\n",
    "\n",
    "# Concatenate dataframes\n",
    "tp = pd.concat([tp_2017, tp_2018], ignore_index=True, )\n",
    "\n",
    "# Show last five rows\n",
    "tp.tail()"
   ]
  },
  {
   "cell_type": "markdown",
   "metadata": {},
   "source": [
    "#### Column Consistency"
   ]
  },
  {
   "cell_type": "code",
   "execution_count": null,
   "metadata": {},
   "outputs": [],
   "source": [
    "# Display column info\n",
    "tp.info()"
   ]
  },
  {
   "cell_type": "markdown",
   "metadata": {},
   "source": [
    "With the exception of 'Year', the data has not been rendered as numbers. They must be converted to floats for mathematical operations."
   ]
  },
  {
   "cell_type": "code",
   "execution_count": null,
   "metadata": {},
   "outputs": [],
   "source": [
    "# Convert numeric columns to decimals\n",
    "tp.G = pd.to_numeric(tp.G, errors='coerce')\n",
    "tp.MP = pd.to_numeric(tp.MP, errors='coerce')\n",
    "tp.PTS = pd.to_numeric(tp.PTS, errors='coerce')\n",
    "tp['3P'] = pd.to_numeric(tp['3P'], errors='coerce')\n",
    "tp['3PA'] = pd.to_numeric(tp['3PA'], errors='coerce')\n",
    "tp['3P%'] = pd.to_numeric(tp['3P%'], errors='coerce')\n",
    "\n",
    "# Check columns\n",
    "tp.info()"
   ]
  },
  {
   "cell_type": "markdown",
   "metadata": {},
   "source": [
    "#### Minimum Requirements"
   ]
  },
  {
   "cell_type": "markdown",
   "metadata": {},
   "source": [
    "It's not necessary to examine data from all players. If a player was never recorded as taking a 3-pointer, he can be excluded from the dataframe. Furthermore, I am not interested in players that only took a few 3's. The purpose of the minimum requirements is to eliminate non-3-point shooters and very low outliers. My minimum requirements are less stringent than other NBA \"qualified\" statistics online. See, for instance, https://stats.nba.com/help/statminimums/."
   ]
  },
  {
   "cell_type": "code",
   "execution_count": null,
   "metadata": {},
   "outputs": [],
   "source": [
    "# Choose players with more than 20 3's per season\n",
    "tp = tp[(tp['3P'] > 20)]\n",
    "\n",
    "# Choose players with more than 320 mintes played per season\n",
    "tp = tp[(tp['MP'] > 320)]\n",
    "\n",
    "# Choose players with at least 41 games per season\n",
    "tp = tp[(tp['G'] > 41)]\n",
    "\n",
    "# Display last 5 rows\n",
    "tp.tail()"
   ]
  },
  {
   "cell_type": "code",
   "execution_count": null,
   "metadata": {},
   "outputs": [],
   "source": [
    "tp.info()"
   ]
  },
  {
   "cell_type": "markdown",
   "metadata": {},
   "source": [
    "Now all columns have the same number of rows."
   ]
  },
  {
   "cell_type": "markdown",
   "metadata": {},
   "source": [
    "#### Points Per Possession"
   ]
  },
  {
   "cell_type": "markdown",
   "metadata": {},
   "source": [
    "The last piece of Data Wrangling is points per possession. It will be used to compute the expected value of points each time a team has the ball. I obtained the team ratings through NBA history at https://www.basketball-reference.com/leagues/NBA_stats.html."
   ]
  },
  {
   "cell_type": "code",
   "execution_count": null,
   "metadata": {},
   "outputs": [],
   "source": [
    "# Read html file\n",
    "df_teams, = pd.read_html(\"https://www.basketball-reference.com/leagues/NBA_stats.html\", header=0)\n",
    "\n",
    "# Display first five rows\n",
    "df_teams.head()"
   ]
  },
  {
   "cell_type": "code",
   "execution_count": null,
   "metadata": {},
   "outputs": [],
   "source": [
    "# Drop first row\n",
    "df_teams.drop(df_teams.index[0], inplace=True)\n",
    "\n",
    "# Choose relevant columns\n",
    "df_PPP = df_teams[['Unnamed: 1','Unnamed: 31']]\n",
    "\n",
    "# Rename columns\n",
    "df_PPP.columns = ['Year', 'PPP']\n",
    "\n",
    "# Show first five rows\n",
    "df_PPP.head()"
   ]
  },
  {
   "cell_type": "code",
   "execution_count": null,
   "metadata": {},
   "outputs": [],
   "source": [
    "# Show column info\n",
    "df_PPP.info()"
   ]
  },
  {
   "cell_type": "code",
   "execution_count": null,
   "metadata": {},
   "outputs": [],
   "source": [
    "# Convert year column to year listed before hyphen\n",
    "df_PPP['Year'] = df_PPP['Year'].str.split('-').str[0]\n",
    "\n",
    "# Convert columns to numbers\n",
    "df_PPP['Year'] = pd.to_numeric(df_PPP['Year'], errors='coerce')\n",
    "df_PPP['PPP'] = pd.to_numeric(df_PPP['PPP'], errors='coerce')\n",
    "\n",
    "# Drop NaN values\n",
    "df_PPP = df_PPP.dropna()\n",
    "\n",
    "# Add 1 to each year, since NBA seasons are maked by the second, not first number\n",
    "df_PPP['Year'] = df_PPP['Year'] + 1\n",
    "\n",
    "# Divide by 100 to convert to points per possession\n",
    "df_PPP['PPP'] = df_PPP['PPP']/100\n",
    "# offensive rating is given in terms of points per 100 possession\n",
    "\n",
    "# View dataframe\n",
    "df_PPP"
   ]
  },
  {
   "cell_type": "markdown",
   "metadata": {},
   "source": [
    "## New NBA Stats"
   ]
  },
  {
   "cell_type": "markdown",
   "metadata": {},
   "source": [
    "### Expected Minutes"
   ]
  },
  {
   "cell_type": "markdown",
   "metadata": {},
   "source": [
    "This first group of statistics computes the number of minutes players are on the court before attemping and making 3's."
   ]
  },
  {
   "cell_type": "markdown",
   "metadata": {},
   "source": [
    "#### AM3A : Average Minutes per 3-point Attempt"
   ]
  },
  {
   "cell_type": "markdown",
   "metadata": {},
   "source": [
    "A player's Average Minutes per 3-Point Attempt is total minutes played divided by total 3-pointers attempted."
   ]
  },
  {
   "cell_type": "code",
   "execution_count": null,
   "metadata": {},
   "outputs": [],
   "source": [
    "# Define new column, AM3A: Average Minutes per 3-point Attempt \n",
    "tp['AM3A'] = tp['MP'] / tp['3PA']\n",
    "\n",
    "# Show last five entrants\n",
    "tp.tail()"
   ]
  },
  {
   "cell_type": "markdown",
   "metadata": {},
   "source": [
    "#### EM3BA : Expected Minutes before 3-point Attempt"
   ]
  },
  {
   "cell_type": "markdown",
   "metadata": {},
   "source": [
    "The expected value of a continuous interval of time is typically at the halfway mark. Will Nick Young (listed above) take a 3 once he checks in, or after 4.27 minutes? His most likely value is halfway between, at 2.135 minutes. This is his expected minutes played before attempting a 3."
   ]
  },
  {
   "cell_type": "code",
   "execution_count": null,
   "metadata": {},
   "outputs": [],
   "source": [
    "# Define new column, EM3A: Expected Minutes before 3-point Attempt\n",
    "tp['EM3A'] = tp['AM3A'] / 2\n",
    "\n",
    "# Sort dataframe by new category\n",
    "tp_EM3A = tp.sort_values('EM3A', ascending=True)\n",
    "\n",
    "# View players who attempt 3s faster than anyone in NBA history\n",
    "tp_EM3A.head(20)"
   ]
  },
  {
   "cell_type": "markdown",
   "metadata": {},
   "source": [
    "Statistical Notes<ul>\n",
    "    <li> Many players on the list come off the bench. EM3A does not distinguish between starters and reserves.</li>\n",
    "    <li> Most top performers are from the last few years, due to the meteoric rise of NBA 3-pointers. </li>\n",
    "     <li> Joe Hassett from 1982 is a shocker! </li>\n",
    "    <li> EM3A is a valuable 3-point statistic. It's informative to know that Eric Gordon will likely take a 3 within 2 minutes of checking in.\n",
    "    </ul>"
   ]
  },
  {
   "cell_type": "markdown",
   "metadata": {},
   "source": [
    "#### AM3 : Average Minutes per 3-Pointer"
   ]
  },
  {
   "cell_type": "markdown",
   "metadata": {},
   "source": [
    "AM3 is like AM3A except it computes the average minutes played per each 3-pointer made."
   ]
  },
  {
   "cell_type": "code",
   "execution_count": null,
   "metadata": {},
   "outputs": [],
   "source": [
    "# Define new column, AM3P: Average Minutes per 3-pointer made\n",
    "tp['AM3'] = tp['MP']/tp['3P']\n",
    "\n",
    "# Show last five rows\n",
    "tp.tail()"
   ]
  },
  {
   "cell_type": "markdown",
   "metadata": {},
   "source": [
    "#### EM3 : Expected Minutes Before a 3"
   ]
  },
  {
   "cell_type": "markdown",
   "metadata": {},
   "source": [
    "This is my favorite statistic of the group. It's how long a player is expected to be on the court before making a 3. As before, EM3 is Average Minutes per 3-pointer is divided by two."
   ]
  },
  {
   "cell_type": "code",
   "execution_count": null,
   "metadata": {},
   "outputs": [],
   "source": [
    "# Define new column, EM3P: Expected Minutes before 3-pointer\n",
    "tp['EM3'] = tp['AM3'] / 2\n",
    "\n",
    "# Dort dataframe by new category\n",
    "tp_EM3 = tp.sort_values('EM3', ascending=True)\n",
    "\n",
    "# Display top twenty seasons of all-time\n",
    "tp_EM3.head(20)"
   ]
  },
  {
   "cell_type": "markdown",
   "metadata": {},
   "source": [
    "EMB3 Statistical Notes:<ul>\n",
    "    <li> EMB3 measures how quickly shooters make 3-pointers upon taking the court.</li> \n",
    "    <li> More restrictive minimum requirements could eliminate reserves. I personally prefer leaving them in. </li>\n",
    "     <li> Steph Curry's legendary 2016 MVP season is a clear # 1. </li>\n",
    "    </ul>"
   ]
  },
  {
   "cell_type": "markdown",
   "metadata": {},
   "source": [
    "EM3A and EM3 are more intriguing, and telling, than AM3A and AM3. The latter can be eliminated since they are just doubles of the former."
   ]
  },
  {
   "cell_type": "code",
   "execution_count": null,
   "metadata": {},
   "outputs": [],
   "source": [
    "# Delete extraneous columns\n",
    "del tp['AM3A'] \n",
    "del tp['AM3']"
   ]
  },
  {
   "cell_type": "markdown",
   "metadata": {},
   "source": [
    "### 3Pave"
   ]
  },
  {
   "cell_type": "markdown",
   "metadata": {},
   "source": [
    "The 3-point statistics above are compelling, but they do not a provide a single metric to rank all 3-point shooters. This is where 3Pave, or 3-point average comes in. 3Pave adds what the team gains beyond the expected value, and subtracts what the team loses beyond the expected value. "
   ]
  },
  {
   "cell_type": "markdown",
   "metadata": {},
   "source": [
    "#### Points Per Possession"
   ]
  },
  {
   "cell_type": "markdown",
   "metadata": {},
   "source": [
    "3Pave depends on the expected value. Should the expected value be points per possession? Or points per field goal attempt? There is no definitive answer. I have chosen points per possession since each time a team has the ball, this is what they are expected to earn. I have computed the mean points per possession throughout NBA history. This statistic was first computed in 1974."
   ]
  },
  {
   "cell_type": "code",
   "execution_count": null,
   "metadata": {},
   "outputs": [],
   "source": [
    "# Compute ev, expected value in points per possession\n",
    "ev = df_PPP['PPP'].mean()\n",
    "\n",
    "# Display ev\n",
    "print('Avg. Points Per Possession:', ev)"
   ]
  },
  {
   "cell_type": "markdown",
   "metadata": {},
   "source": [
    "This is very close to what current teams average at 1.08"
   ]
  },
  {
   "cell_type": "markdown",
   "metadata": {},
   "source": [
    "#### 3Pave Formula"
   ]
  },
  {
   "cell_type": "markdown",
   "metadata": {},
   "source": [
    "When a player makes a 3-pointer, the team gains an extra 3 points minus the expected value. When a player misses a 3-pointer, the team loses the expected value."
   ]
  },
  {
   "cell_type": "code",
   "execution_count": null,
   "metadata": {},
   "outputs": [],
   "source": [
    "# Formula for 3Pave, 3-point Average\n",
    "\n",
    "# Compute 3PG, 3-pointers per Game\n",
    "tp['3PG']=tp['3P']/tp['G']\n",
    "\n",
    "# Compute 3PAG, 3-point Attempts per Game\n",
    "tp['3PAG']= tp['3PA']/tp['G']\n",
    "\n",
    "# Compute 3PMi, 3-point Misses per Game\n",
    "tp_misses =tp['3PAG']-tp['3PG']\n",
    "\n",
    "# Declare expected value\n",
    "ev = df_PPP['PPP'].mean()\n",
    "                          \n",
    "# Compute 3PAd, 3-point Advantage\n",
    "tp['3Pave']=tp['3PG'] * (3 - ev) - tp_misses * ev\n",
    "\n",
    "# (3 - ev) is what the team gains per 3-pointer made\n",
    "# -ev is what the team loses per 3-pointer missed"
   ]
  },
  {
   "cell_type": "markdown",
   "metadata": {},
   "source": [
    "## 3Pave Rankings"
   ]
  },
  {
   "cell_type": "markdown",
   "metadata": {},
   "source": [
    "#### The Top 25"
   ]
  },
  {
   "cell_type": "code",
   "execution_count": null,
   "metadata": {},
   "outputs": [],
   "source": [
    "# Sort dataframe by 3Pave\n",
    "tp=tp.sort_values('3Pave', ascending=False)\n",
    "\n",
    "# Reset index\n",
    "tp = tp.reset_index(drop=True)\n",
    "\n",
    "# Start index at 1 instead of 0\n",
    "tp.index = tp.index + 1\n",
    "\n",
    "# Display top 25 3-point shooting seasons of all-time\n",
    "tp.head(25)"
   ]
  },
  {
   "cell_type": "markdown",
   "metadata": {},
   "source": [
    "3Pave Statistical Notes:<ul>\n",
    "    <li> Steph Curry's legendary MVP season is heads and shoulders above the rest, and he dominates the list as a player.</li> \n",
    "    <li> 3Pave does a great job of comparing 3-point shooters over the years. </li>\n",
    "     <li> Different expected values will produce different results. </li>\n",
    "    <li> 3Pave has real meaning. It conveys the actual points a team gains by the player shooting 3-pointers. </li>\n",
    "    </ul>"
   ]
  },
  {
   "cell_type": "markdown",
   "metadata": {},
   "source": [
    "#### Weighted"
   ]
  },
  {
   "cell_type": "markdown",
   "metadata": {},
   "source": [
    "It's telling to use the same measure, mean points per possession, across all years. But is it justifiable? Teams score more points per possession these days, so it could be argued that 3-pointers were more valuable in years past. The expected value can be weighted, by taking the mean points per possession for each given year. "
   ]
  },
  {
   "cell_type": "code",
   "execution_count": null,
   "metadata": {},
   "outputs": [],
   "source": [
    "# Merge df_PPP, dataframe with 'Year' and 'PPP', with tp, the current dataframe\n",
    "tp = tp.merge(df_PPP)\n",
    "\n",
    "# Declare weighed expected value\n",
    "evw = tp['PPP']\n",
    "\n",
    "# Compute 3PMi, 3-point Misses per Game\n",
    "tp_misses =tp['3PAG']-tp['3PG']\n",
    "                          \n",
    "# Compute 3Pave using weighted expected value\n",
    "tp['3Pave/w']=tp['3PG'] * (3 - evw) - tp_misses * evw"
   ]
  },
  {
   "cell_type": "markdown",
   "metadata": {},
   "source": [
    "#### The Top 25, Weighted"
   ]
  },
  {
   "cell_type": "code",
   "execution_count": null,
   "metadata": {},
   "outputs": [],
   "source": [
    "# Keep dataframe tight by eliminating unnecessary columns\n",
    "tp.drop(['MP', 'PPP'], axis=1, inplace=True)\n",
    "\n",
    "# Sort dataframe by 3Pave/w\n",
    "tp=tp.sort_values('3Pave/w', ascending=False)\n",
    "\n",
    "# Reset index\n",
    "tp = tp.reset_index(drop=True)\n",
    "\n",
    "# Start index at 1 instead of 0\n",
    "tp.index = tp.index + 1\n",
    "\n",
    "# Display top 25 3-point shooting weighted seasons\n",
    "tp.head(25)"
   ]
  },
  {
   "cell_type": "markdown",
   "metadata": {},
   "source": [
    "The values are very close. Some players from earlier eras, like Ray Allen, move up the list, but others, like Glen Rice, actually move down. It depends on how many points per possession the league averaged that year. Players from higher scoring eras, like 2018, drop down. Consider Klay Thompson's 2018 drop from 9 to 17. Was his 3-point season not as valuable because the whole league was better at shooting 3s? "
   ]
  },
  {
   "cell_type": "code",
   "execution_count": null,
   "metadata": {},
   "outputs": [],
   "source": [
    "# Return to index with 3Pave, unweighted, as default order\n",
    "\n",
    "# Sort dataframe by 3Pave\n",
    "tp=tp.sort_values('3Pave', ascending=False)\n",
    "\n",
    "# Reset index\n",
    "tp = tp.reset_index(drop=True)\n",
    "\n",
    "# Start index at 1 instead of 0\n",
    "tp.index = tp.index + 1"
   ]
  },
  {
   "cell_type": "markdown",
   "metadata": {},
   "source": [
    "#### 2018 League Leaders"
   ]
  },
  {
   "cell_type": "markdown",
   "metadata": {},
   "source": [
    "We can check the league leaders for any given year. Note that for a particular year, weighted and unweighted will provide the same order."
   ]
  },
  {
   "cell_type": "code",
   "execution_count": null,
   "metadata": {},
   "outputs": [],
   "source": [
    "# Create 2018 dataframe\n",
    "tp_2018 = tp[tp['Year']==2018.0]\n",
    "\n",
    "# Reset index\n",
    "tp_2018 = tp_2018.reset_index(drop=True)\n",
    "\n",
    "# Start index at 1 instead of 0\n",
    "tp_2018.index = tp_2018.index + 1\n",
    "\n",
    "# Show top 10 3Pave\n",
    "tp_2018.head(10)"
   ]
  },
  {
   "cell_type": "markdown",
   "metadata": {},
   "source": [
    "The Golden State Warriors dominate the list. What about the Houston Rockets? They have the reputation of being a great 3-point shooting team."
   ]
  },
  {
   "cell_type": "markdown",
   "metadata": {},
   "source": [
    "#### 2018 Warriors v Rockets"
   ]
  },
  {
   "cell_type": "code",
   "execution_count": null,
   "metadata": {},
   "outputs": [],
   "source": [
    "# Create 2018 dataframe for GSW and HOU\n",
    "tp_2018_GSW_HOU = tp_2018[(tp_2018['Tm']=='GSW') | (tp_2018['Tm']=='HOU')]\n",
    "\n",
    "# Display dataframe\n",
    "tp_2018_GSW_HOU"
   ]
  },
  {
   "cell_type": "markdown",
   "metadata": {},
   "source": [
    "Golden State is at the top and bottom, while Houston dominates the middle. It's interesting to note that Eric Gordon is a + or - depending on whether the column is weighted. Summing 3Pave will give us the winner."
   ]
  },
  {
   "cell_type": "code",
   "execution_count": null,
   "metadata": {},
   "outputs": [],
   "source": [
    "tp_2018_GSW_HOU.groupby('Tm')['3Pave'].sum()"
   ]
  },
  {
   "cell_type": "markdown",
   "metadata": {},
   "source": [
    "Golden State is the clear winner, almost doubling Houston in points gained by shooting 3's. How does the team rank historically?"
   ]
  },
  {
   "cell_type": "markdown",
   "metadata": {},
   "source": [
    "#### Best 3-Point Shooting Teams of All-Time"
   ]
  },
  {
   "cell_type": "code",
   "execution_count": null,
   "metadata": {},
   "outputs": [],
   "source": [
    "# Eliminate TOT, Total for traded players, from list of NBA Teams\n",
    "tp_teams = tp[tp['Tm'] != 'TOT']\n",
    "\n",
    "# Group teams and year by 3Pave, sort in order\n",
    "tp_teams = tp_teams.groupby(['Tm','Year'])['3Pave'].sum().sort_values(ascending=False)\n",
    "\n",
    "# Convert top 25 to DataFrame\n",
    "pd.DataFrame(tp_teams.head(25))"
   ]
  },
  {
   "cell_type": "markdown",
   "metadata": {},
   "source": [
    "It's no surprise that the Warriors take the top 3 spots with the 73-win way above the rest. The 7-seconds-or-less Suns are close behind. The Charlotte Hornets from '97 are a surprise #7 until one recalls that they had Dell Curry and Glen Rice. Four of the last five NBA champions made the top 10. The legendary '96 Bulls are 16th."
   ]
  },
  {
   "cell_type": "markdown",
   "metadata": {},
   "source": [
    "#### Best 3-Point Shooting Teams of All-Time, Weighted"
   ]
  },
  {
   "cell_type": "code",
   "execution_count": null,
   "metadata": {},
   "outputs": [],
   "source": [
    "# Eliminate TOT, Total for traded players, from list of NBA Teams\n",
    "tp_teams = tp[tp['Tm'] != 'TOT']\n",
    "\n",
    "# Group teams and year by weighted 3Pave, and sort in order\n",
    "tp_teams = tp_teams.groupby(['Tm','Year'])['3Pave/w'].sum().sort_values(ascending=False)\n",
    "\n",
    "# Convert top 25 to DataFrame\n",
    "pd.DataFrame(tp_teams.head(25))"
   ]
  },
  {
   "cell_type": "markdown",
   "metadata": {},
   "source": [
    "Weighted includes more Spurs teams, the Reggie Miller Pacer team that made the finals, and a Ray Allen Bucks team. The Warriors comfortably hold the first two spots."
   ]
  },
  {
   "cell_type": "markdown",
   "metadata": {},
   "source": [
    "#### Best of the 90s"
   ]
  },
  {
   "cell_type": "code",
   "execution_count": null,
   "metadata": {},
   "outputs": [],
   "source": [
    "# Create 90s dataframe\n",
    "tp_90s = tp[(tp['Year']<2000) & (tp['Year']>1989)]\n",
    "\n",
    "# Display top 25 3-point shooting seasons of all-time\n",
    "tp_90s.head(25)"
   ]
  },
  {
   "cell_type": "markdown",
   "metadata": {},
   "source": [
    "The big 90s shooters. Glen Rice, Reggie Miller, Dell Curry, Dennis Scott, Mitch Ritchmond, Dale Ellis."
   ]
  },
  {
   "cell_type": "markdown",
   "metadata": {},
   "source": [
    "#### Best of the 80s"
   ]
  },
  {
   "cell_type": "code",
   "execution_count": null,
   "metadata": {},
   "outputs": [],
   "source": [
    "# Create 80s dataframe\n",
    "tp_80s = tp[tp['Year']<1990]\n",
    "# The first 3-point shot was recorded in 1979, officially the 1980 season.\n",
    "\n",
    "# Display top 25\n",
    "tp_80s.head(25)"
   ]
  },
  {
   "cell_type": "markdown",
   "metadata": {},
   "source": [
    "Craig Hodges. Mark Price. Larry Bird. More Dale Ellis. The first 3-point shot was made in 1979, so we can't go back much further."
   ]
  },
  {
   "cell_type": "markdown",
   "metadata": {},
   "source": [
    "#### Career Totals"
   ]
  },
  {
   "cell_type": "markdown",
   "metadata": {},
   "source": [
    "How about the most points gained by shooting 3's over their entire career?"
   ]
  },
  {
   "cell_type": "code",
   "execution_count": null,
   "metadata": {},
   "outputs": [],
   "source": [
    "# Create 3Pave/c using same formula as 3Pave, but use totals instead of per game\n",
    "tp['3Pave/c'] = tp['3P'] * (3 - ev) - (tp['3PA'] - tp['3P']) * ev\n",
    "\n",
    "# Group by player, and sum over their career\n",
    "tp_player = tp.groupby('Player')['3Pave/c'].sum()\n",
    "\n",
    "# Order from the top\n",
    "tp_player = tp_player.sort_values(ascending=False)\n",
    "\n",
    "# Convert to DataFrame for nicer viewing\n",
    "tp_player = pd.DataFrame(tp_player)\n",
    "\n",
    "# Display top 25\n",
    "tp_player.head(25)"
   ]
  },
  {
   "cell_type": "markdown",
   "metadata": {},
   "source": [
    "Kyle Korver beats out Ray Allen and Reggie Miller. (Stats are for the regular season only.) The only players on this list who are not retired, or at the end of their careers are Steph Curry and Klay Thompson. It's amazing to think that Steph Curry is already number two. Let's compare this to traditional 3 pointers made."
   ]
  },
  {
   "cell_type": "code",
   "execution_count": null,
   "metadata": {},
   "outputs": [],
   "source": [
    "# Convert to DataFrame: Group by player, sum over 3 pointers, sort values, display top 25\n",
    "pd.DataFrame(tp.groupby('Player')['3P'].sum().sort_values(ascending=False).head(25))"
   ]
  },
  {
   "cell_type": "markdown",
   "metadata": {},
   "source": [
    "Most fans would agree that Kobe Bryant, Lebron James and Nick Van Exel are not as good at 3-pointers as Glen Rice, Del Curry and Steve Kerr. Finally, we have a statistic to prove it."
   ]
  },
  {
   "cell_type": "markdown",
   "metadata": {},
   "source": [
    "#### Career Averages"
   ]
  },
  {
   "cell_type": "code",
   "execution_count": null,
   "metadata": {},
   "outputs": [],
   "source": [
    "# Count number of seasons\n",
    "tp['seasons'] = tp.groupby('Player')['3Pave'].transform('count')\n",
    "\n",
    "# Require at least 4 seasons\n",
    "tp_seasons = tp[tp['seasons']>=4]\n",
    "\n",
    "# Compute average, divide sum of player's 3Pave by the number of seasons\n",
    "tp_av = tp_seasons.groupby('Player')['3Pave'].sum()/tp_seasons.groupby('Player')['3Pave'].count()\n",
    "\n",
    "# Sort and display top 25 as DataFrame\n",
    "pd.DataFrame(tp_av.sort_values(ascending=False).head(25))"
   ]
  },
  {
   "cell_type": "markdown",
   "metadata": {},
   "source": [
    "Steph Curry doubles everyone on the list except for teammate Klay Thompson, and Kyle Korver. I think we can safely answer the questions posed at the beginning of this notebook. The Warriors are the best 3-point shooting team of all-time because they have the two best 3-point shooters of all-time. The statistics verify what every fan knows to be true: Steph Curry is the greatest of all-time."
   ]
  },
  {
   "cell_type": "markdown",
   "metadata": {},
   "source": [
    "## Conclusion"
   ]
  },
  {
   "cell_type": "markdown",
   "metadata": {},
   "source": [
    "Three new NBA statistics have been presented. EM3A, Expected Minutes before a 3-point Attempt could be of value to coaches preparing for opponents and working with their own players. EM3, Expected Minutes before a 3, is a fun statistic that could be used for similar reasons. 3Pave, 3-point Average, is a powerful statistic that provides a single number to rank 3-point shooters across all seasons.\n",
    "\n",
    "3Pave rewards players for making 3-point shots, and penalizes them for missing. Players that make a lot of 3s, but shoot a low percentage are exposed as making slight contributions to their teams. Players who shoot a high percentage need to make a high volume to be competitive. 3Pave rankings are statisically verifiable while simultaneously communicating valuable information.\n",
    "\n",
    "3Pave reveals the gain in points beyond the league average that a player adds to his team by shooting 3's. It can be weighted, summed, or displayed as per game averages. It can be used as a barometer to determine whether a player should be encouraged or discouraged from shooting 3's. Any positive score is a plus for the team, while negative scores are a detriment.\n",
    "\n",
    "3Pave stands up well to general expectations. With the analysis above, one can argue that Steph Curry, Klay Thompson, and Kyle Korver are the best 3-point shooters of all-time, with Ray Allen close behind. The Golden State Warriors are verifiably the greatest 3-point shooting team of all time, followed by the 7-seconds-or-less Phoenix Suns.\n",
    "\n",
    "3Pave can be used to analyze playoff statistics and clutch 3-point shooters. It can be used during basketball seasons past and future to analyze the success of 3-point shooters. It can be used for any league, WNBA, college, high school, etc., provided that an appropiate expected value, like points per possession, is utilized."
   ]
  },
  {
   "cell_type": "code",
   "execution_count": null,
   "metadata": {},
   "outputs": [],
   "source": []
  }
 ],
 "metadata": {
  "kernelspec": {
   "display_name": "Python 3",
   "language": "python",
   "name": "python3"
  },
  "language_info": {
   "codemirror_mode": {
    "name": "ipython",
    "version": 3
   },
   "file_extension": ".py",
   "mimetype": "text/x-python",
   "name": "python",
   "nbconvert_exporter": "python",
   "pygments_lexer": "ipython3",
   "version": "3.6.4"
  }
 },
 "nbformat": 4,
 "nbformat_minor": 2
}
